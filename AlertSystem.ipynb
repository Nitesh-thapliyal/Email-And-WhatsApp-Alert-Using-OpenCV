{
 "cells": [
  {
   "cell_type": "code",
   "execution_count": 1,
   "metadata": {},
   "outputs": [],
   "source": [
    "import cv2\n",
    "from PIL import Image # PIL(Python Image Library ) is for opening, saving and manupilating an image\n",
    "from email.message import EmailMessage\n",
    "import smtplib, ssl\n",
    "from email.mime.text import MIMEText\n",
    "from email.mime.base import MIMEBase\n",
    "from email.mime.multipart import MIMEMultipart\n",
    "from email import encoders\n",
    "import imghdr # And imghdr to find the types of our images\n",
    "import os \n",
    "import pywhatkit # for whatsapp \n"
   ]
  },
  {
   "cell_type": "code",
   "execution_count": 2,
   "metadata": {},
   "outputs": [],
   "source": [
    "model = cv2.CascadeClassifier('haarcascade_frontalface_default.xml')"
   ]
  },
  {
   "cell_type": "markdown",
   "metadata": {},
   "source": [
    "## Image Processing and Email alert"
   ]
  },
  {
   "cell_type": "code",
   "execution_count": 3,
   "metadata": {},
   "outputs": [
    {
     "name": "stdout",
     "output_type": "stream",
     "text": [
      "Image Captured\n"
     ]
    },
    {
     "data": {
      "text/plain": [
       "{}"
      ]
     },
     "execution_count": 3,
     "metadata": {},
     "output_type": "execute_result"
    }
   ],
   "source": [
    "############################ Image Processing: Capture Image, Crop Image and Save Image############################\n",
    "while True:\n",
    "    cap = cv2.VideoCapture(0)\n",
    "    ret, photo = cap.read()\n",
    "    faces = model.detectMultiScale(photo)\n",
    "    if len(faces) == 0:\n",
    "        pass\n",
    "    else:\n",
    "        x1=faces[0][0]\n",
    "        y1=faces[0][1]\n",
    "        x2=x1+faces[0][2]\n",
    "        y2=y1+faces[0][3]\n",
    "\n",
    "        aphoto = cv2.rectangle(photo, (x1,y1), (x2,y2), [0,255,0], 5)\n",
    "        cv2.imshow(\"Image Capturing\", aphoto)\n",
    "        if cv2.waitKey(5)==13: #13 is the code for Enter Key\n",
    "            break\n",
    "cv2.destroyAllWindows()\n",
    "cap.release()\n",
    "\n",
    "image = Image.fromarray(aphoto)\n",
    "image.save('Alert.png')\n",
    "image_show=Image.open(r\"Alert.png\")\n",
    "image_crop = image_show.crop((x1,y1,x2,y2))\n",
    "image_crop.show()\n",
    "image_crop.save('Alert_face_detected.png')\n",
    "print(\"Image Captured\")\n",
    "\n",
    "\n",
    "############################################## Email Alert ##################################################\n",
    "\n",
    "email_id = os.environ['my_email']\n",
    "email_receiver = os.environ['receiver_email']\n",
    "password = os.environ['my_password']\n",
    "\n",
    "#Sender, Reciever, Body of Email\n",
    "sender = email_id\n",
    "receivers = email_receiver\n",
    "body_of_email = 'Alert intrucder has been detected'\n",
    "\n",
    "#added sender and reciver email addresses\n",
    "msg = MIMEMultipart()\n",
    "msg['Subject'] = 'Alert Intruder detected'\n",
    "msg['From'] = sender\n",
    "msg['To'] = receivers\n",
    "\n",
    "part = MIMEBase('application', 'octet-stream')\n",
    "part.set_payload(open('Alert.png', 'rb').read())#Image attached\n",
    "encoders.encode_base64(part)\n",
    "part.add_header('Content-Disposition', 'attachment; filename =\"Alert.png\"')\n",
    "msg.attach(part)\n",
    "\n",
    "#Connecting to Gmail SMTP Server\n",
    "s = smtplib.SMTP_SSL(host = 'smtp.gmail.com', port = 465)\n",
    "s.login(user = sender, password = password)\n",
    "\n",
    "s.sendmail(sender, receivers, msg.as_string())\n",
    "\n",
    "\n"
   ]
  },
  {
   "cell_type": "markdown",
   "metadata": {},
   "source": [
    "## WhatsApp message alert"
   ]
  },
  {
   "cell_type": "code",
   "execution_count": null,
   "metadata": {
    "scrolled": true
   },
   "outputs": [],
   "source": [
    "number = os.environ['phone_number']\n",
    "\n",
    "import pywhatkit\n",
    "pywhatkit.sendwhatmsg(number, 'Alert Intruder Detected ',2,29)"
   ]
  }
 ],
 "metadata": {
  "kernelspec": {
   "display_name": "Python 3",
   "language": "python",
   "name": "python3"
  },
  "language_info": {
   "codemirror_mode": {
    "name": "ipython",
    "version": 3
   },
   "file_extension": ".py",
   "mimetype": "text/x-python",
   "name": "python",
   "nbconvert_exporter": "python",
   "pygments_lexer": "ipython3",
   "version": "3.8.3"
  }
 },
 "nbformat": 4,
 "nbformat_minor": 4
}
